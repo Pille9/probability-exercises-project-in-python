{
 "cells": [
  {
   "cell_type": "markdown",
   "id": "a41f3622",
   "metadata": {},
   "source": [
    "# Ejercicios de probabilidad"
   ]
  },
  {
   "cell_type": "markdown",
   "id": "a6bdbd89",
   "metadata": {},
   "source": [
    "## Ejercicio 1 \n",
    "\n",
    "Dos dados se lanzan una vez y se observa el total obtenido. Usa una simulación para encontrar la probabilidad estimada de que la puntuación sea mayor a 7 o un número par. Una simulación es una repetición del mismo experimento multiples veces para observar su comportamiento:\n",
    "\n",
    "- Ejecuta el experimento 1000 veces (lanza 2 dados 1000 veces, y suma el número de ambos dados).\n",
    "- Lleva ua cuenta de los números y las veces que la suma fue mayor a 7 o un número par.\n",
    "- Divide el número del paso 2 entre el número de iteraciones(1000)."
   ]
  },
  {
   "cell_type": "code",
   "execution_count": 11,
   "id": "8939d892",
   "metadata": {},
   "outputs": [
    {
     "name": "stdout",
     "output_type": "stream",
     "text": [
      "La probabilidad estimada de que la puntuación sea mayor de 7 o un número par es: 66.8%\n"
     ]
    }
   ],
   "source": [
    "# TODO\n",
    "import random\n",
    "import numpy as np\n",
    "\n",
    "num_simulaciones = 1000\n",
    "contador = 0\n",
    "\n",
    "## Simulación\n",
    "for _ in range(num_simulaciones):\n",
    "    dado1 = random.randint(1, 6)\n",
    "    dado2 = random.randint(1, 6)\n",
    "    suma = dado1 + dado2\n",
    "    # Condición para el contador\n",
    "    if suma > 7 or suma %2 == 0:\n",
    "        contador += 1\n",
    "\n",
    "# Probabilidad estimada\n",
    "prob = contador/num_simulaciones\n",
    "print(f\"La probabilidad estimada de que la puntuación sea mayor de 7 o un número par es: {np.round(prob*100, 2)}%\")\n"
   ]
  },
  {
   "cell_type": "markdown",
   "id": "55732bca",
   "metadata": {},
   "source": [
    "## Ejercicio 2\n",
    "\n",
    "Una caja contiene 10 bolas blancas, 20 bolas rojas y 30 bolas verdes. Si tomamos 5 bolas de la caja reemplazándolas (tomando una bola, anotando el color y luego regresandola a la caja). Queremos saber la probabilidad de:\n",
    "\n",
    "1. Tomar 3 blancas y 2 rojas.\n",
    "2. Toas todas del mismo color.\n",
    "\n",
    "Ejecuta el experimento 1000 veces y calcula las probabilidades que mencionadas."
   ]
  },
  {
   "cell_type": "code",
   "execution_count": 13,
   "id": "23244d20",
   "metadata": {},
   "outputs": [
    {
     "name": "stdout",
     "output_type": "stream",
     "text": [
      "{0: 'White', 1: 'White', 2: 'White', 3: 'White', 4: 'White', 5: 'White', 6: 'White', 7: 'White', 8: 'White', 9: 'White', 10: 'Red', 11: 'Red', 12: 'Red', 13: 'Red', 14: 'Red', 15: 'Red', 16: 'Red', 17: 'Red', 18: 'Red', 19: 'Red', 20: 'Red', 21: 'Red', 22: 'Red', 23: 'Red', 24: 'Red', 25: 'Red', 26: 'Red', 27: 'Red', 28: 'Red', 29: 'Red', 30: 'Green', 31: 'Green', 32: 'Green', 33: 'Green', 34: 'Green', 35: 'Green', 36: 'Green', 37: 'Green', 38: 'Green', 39: 'Green', 40: 'Green', 41: 'Green', 42: 'Green', 43: 'Green', 44: 'Green', 45: 'Green', 46: 'Green', 47: 'Green', 48: 'Green', 49: 'Green', 50: 'Green', 51: 'Green', 52: 'Green', 53: 'Green', 54: 'Green', 55: 'Green', 56: 'Green', 57: 'Green', 58: 'Green', 59: 'Green'}\n",
      "La probabilidad estimada de tomar 3 blancas y 2 rojas es: 0.3%\n",
      "La probabilidad estimada de tomar todas del mismo color es: 3.3%\n"
     ]
    }
   ],
   "source": [
    "ball_box = {}\n",
    "\n",
    "# Crea la cajas con las bolas\n",
    "for i in range(60):\n",
    "    if i < 10:\n",
    "        ball_box[i] = \"White\"\n",
    "    elif (i > 9) and (i < 30):\n",
    "        ball_box[i] = \"Red\"\n",
    "    else:\n",
    "        ball_box[i] = \"Green\"\n",
    "\n",
    "print(ball_box)\n",
    "            \n",
    "# TODO\n",
    "num_simulaciones = 1000\n",
    "contador_w_r = 0\n",
    "contador_todas = 0\n",
    "\n",
    "# Simulación\n",
    "for sims in range(num_simulaciones):\n",
    "    bolas = []\n",
    "    \n",
    "    # Coger las bolas\n",
    "    for i in range (5):\n",
    "        bolas.append(ball_box[np.random.randint(0, 60)])\n",
    "    \n",
    "    # Contar cuántas de cada color\n",
    "    bolas = np.array(bolas)\n",
    "\n",
    "    blancas = sum(bolas == \"White\")\n",
    "    rojas = sum(bolas == \"Red\")\n",
    "    verdes = sum(bolas == \"Green\")\n",
    "\n",
    "    # Anotar en contadores las veces que se cumplen las condiciones\n",
    "    if (blancas == 3 and rojas == 2):\n",
    "        contador_w_r += 1\n",
    "    if (blancas == 5 or rojas == 5 or verdes == 5):\n",
    "        contador_todas += 1\n",
    "\n",
    "# Probabilidades\n",
    "prob_w_r = contador_w_r/num_simulaciones\n",
    "prob_todas = contador_todas/num_simulaciones\n",
    "\n",
    "print(f\"La probabilidad estimada de tomar 3 blancas y 2 rojas es: {np.round(prob_w_r*100, 2)}%\")\n",
    "print(f\"La probabilidad estimada de tomar todas del mismo color es: {np.round(prob_todas*100, 2)}%\")"
   ]
  }
 ],
 "metadata": {
  "kernelspec": {
   "display_name": "Python 3",
   "language": "python",
   "name": "python3"
  },
  "language_info": {
   "codemirror_mode": {
    "name": "ipython",
    "version": 3
   },
   "file_extension": ".py",
   "mimetype": "text/x-python",
   "name": "python",
   "nbconvert_exporter": "python",
   "pygments_lexer": "ipython3",
   "version": "3.11.4"
  }
 },
 "nbformat": 4,
 "nbformat_minor": 5
}
